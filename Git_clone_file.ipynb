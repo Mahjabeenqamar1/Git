{
  "nbformat": 4,
  "nbformat_minor": 0,
  "metadata": {
    "colab": {
      "provenance": [],
      "authorship_tag": "ABX9TyMOFtd+U+YRnJ3wnzXb/hjo",
      "include_colab_link": true
    },
    "kernelspec": {
      "name": "python3",
      "display_name": "Python 3"
    },
    "language_info": {
      "name": "python"
    }
  },
  "cells": [
    {
      "cell_type": "markdown",
      "metadata": {
        "id": "view-in-github",
        "colab_type": "text"
      },
      "source": [
        "<a href=\"https://colab.research.google.com/github/Mahjabeenqamar1/Git/blob/master/Git_clone_file.ipynb\" target=\"_parent\"><img src=\"https://colab.research.google.com/assets/colab-badge.svg\" alt=\"Open In Colab\"/></a>"
      ]
    },
    {
      "cell_type": "code",
      "source": [
        "!git clone https://github.com/sarojaerabelli/py-fhe"
      ],
      "metadata": {
        "id": "SOskZ9j18DXN",
        "colab": {
          "base_uri": "https://localhost:8080/"
        },
        "outputId": "dc036994-32b6-41a5-f7ed-82a1ce03041c"
      },
      "execution_count": null,
      "outputs": [
        {
          "output_type": "stream",
          "name": "stdout",
          "text": [
            "Cloning into 'py-fhe'...\n",
            "remote: Enumerating objects: 305, done.\u001b[K\n",
            "remote: Counting objects: 100% (305/305), done.\u001b[K\n",
            "remote: Compressing objects: 100% (127/127), done.\u001b[K\n",
            "remote: Total 305 (delta 202), reused 273 (delta 176), pack-reused 0\u001b[K\n",
            "Receiving objects: 100% (305/305), 75.12 KiB | 2.68 MiB/s, done.\n",
            "Resolving deltas: 100% (202/202), done.\n"
          ]
        }
      ]
    },
    {
      "cell_type": "code",
      "source": [
        "%cd py-fhe/"
      ],
      "metadata": {
        "colab": {
          "base_uri": "https://localhost:8080/"
        },
        "id": "m9fGGLk9T4V7",
        "outputId": "3146936b-e822-4eb3-b5a7-67dc7f422f04"
      },
      "execution_count": null,
      "outputs": [
        {
          "output_type": "stream",
          "name": "stdout",
          "text": [
            "/content/py-fhe\n"
          ]
        }
      ]
    },
    {
      "cell_type": "code",
      "source": [
        "! pwd"
      ],
      "metadata": {
        "colab": {
          "base_uri": "https://localhost:8080/"
        },
        "id": "zOgKHB7YUEy4",
        "outputId": "51f25ff7-28e7-481e-f76c-3880df31b67c"
      },
      "execution_count": null,
      "outputs": [
        {
          "output_type": "stream",
          "name": "stdout",
          "text": [
            "/content/py-fhe\n"
          ]
        }
      ]
    },
    {
      "cell_type": "code",
      "source": [
        "!pip install -e ."
      ],
      "metadata": {
        "colab": {
          "base_uri": "https://localhost:8080/"
        },
        "id": "zAduxDXMUH4A",
        "outputId": "edf2cba7-da37-46bf-ea0f-e1c99353771a"
      },
      "execution_count": null,
      "outputs": [
        {
          "output_type": "stream",
          "name": "stdout",
          "text": [
            "Looking in indexes: https://pypi.org/simple, https://us-python.pkg.dev/colab-wheels/public/simple/\n",
            "Obtaining file:///content/py-fhe\n",
            "  Preparing metadata (setup.py) ... \u001b[?25l\u001b[?25hdone\n",
            "Requirement already satisfied: sympy in /usr/local/lib/python3.8/dist-packages (from py-fhe==0.0.0) (1.7.1)\n",
            "Requirement already satisfied: pytest in /usr/local/lib/python3.8/dist-packages (from py-fhe==0.0.0) (3.6.4)\n",
            "Requirement already satisfied: setuptools in /usr/local/lib/python3.8/dist-packages (from pytest->py-fhe==0.0.0) (57.4.0)\n",
            "Requirement already satisfied: atomicwrites>=1.0 in /usr/local/lib/python3.8/dist-packages (from pytest->py-fhe==0.0.0) (1.4.1)\n",
            "Requirement already satisfied: attrs>=17.4.0 in /usr/local/lib/python3.8/dist-packages (from pytest->py-fhe==0.0.0) (22.2.0)\n",
            "Requirement already satisfied: more-itertools>=4.0.0 in /usr/local/lib/python3.8/dist-packages (from pytest->py-fhe==0.0.0) (9.0.0)\n",
            "Requirement already satisfied: py>=1.5.0 in /usr/local/lib/python3.8/dist-packages (from pytest->py-fhe==0.0.0) (1.11.0)\n",
            "Requirement already satisfied: six>=1.10.0 in /usr/local/lib/python3.8/dist-packages (from pytest->py-fhe==0.0.0) (1.15.0)\n",
            "Requirement already satisfied: pluggy<0.8,>=0.5 in /usr/local/lib/python3.8/dist-packages (from pytest->py-fhe==0.0.0) (0.7.1)\n",
            "Requirement already satisfied: mpmath>=0.19 in /usr/local/lib/python3.8/dist-packages (from sympy->py-fhe==0.0.0) (1.2.1)\n",
            "Installing collected packages: py-fhe\n",
            "  Running setup.py develop for py-fhe\n",
            "Successfully installed py-fhe-0.0.0\n"
          ]
        }
      ]
    },
    {
      "cell_type": "code",
      "source": [
        "!pytest"
      ],
      "metadata": {
        "colab": {
          "base_uri": "https://localhost:8080/"
        },
        "id": "Tmuf1cFHUMu1",
        "outputId": "9c7b24b1-be2d-4650-838b-7bb01ddf3941"
      },
      "execution_count": null,
      "outputs": [
        {
          "output_type": "stream",
          "name": "stdout",
          "text": [
            "\u001b[1m============================= test session starts ==============================\u001b[0m\n",
            "platform linux -- Python 3.8.10, pytest-3.6.4, py-1.11.0, pluggy-0.7.1\n",
            "rootdir: /content/py-fhe, inifile:\n",
            "plugins: typeguard-2.7.1\n",
            "collected 70 items                                                             \u001b[0m\n",
            "\n",
            "tests/test_bit_operations.py ..\u001b[36m                                          [  2%]\u001b[0m\n",
            "tests/test_crt.py ..\u001b[36m                                                     [  5%]\u001b[0m\n",
            "tests/test_matrix_operations.py .......\u001b[36m                                  [ 15%]\u001b[0m\n",
            "tests/test_ntt.py ......\u001b[36m                                                 [ 24%]\u001b[0m\n",
            "tests/test_number_theory.py .....\u001b[36m                                        [ 31%]\u001b[0m\n",
            "tests/test_polynomial.py ..............\u001b[36m                                  [ 51%]\u001b[0m\n",
            "tests/test_random_sample.py .\u001b[36m                                            [ 52%]\u001b[0m\n",
            "tests/bfv/test_batch_encoder.py ...\u001b[36m                                      [ 57%]\u001b[0m\n",
            "tests/bfv/test_bfv_encrypt_decrypt.py .....\u001b[36m                              [ 64%]\u001b[0m\n",
            "tests/bfv/test_bfv_evaluator.py ..\u001b[36m                                       [ 67%]\u001b[0m\n",
            "tests/bfv/test_int_encoder.py .....\u001b[36m                                      [ 74%]\u001b[0m\n",
            "tests/ckks/test_ckks_arithmetic.py ......\u001b[36m                                [ 82%]\u001b[0m\n",
            "tests/ckks/test_ckks_bootstrapping.py ....\u001b[36m                               [ 88%]\u001b[0m\n",
            "tests/ckks/test_ckks_encoder.py ..\u001b[36m                                       [ 91%]\u001b[0m\n",
            "tests/ckks/test_ckks_encrypt_decrypt.py ..\u001b[36m                               [ 94%]\u001b[0m\n",
            "tests/ckks/test_ckks_rotation.py ....\u001b[36m                                    [100%]\u001b[0m\n",
            "\n",
            "\u001b[32m\u001b[1m========================== 70 passed in 42.09 seconds ==========================\u001b[0m\n"
          ]
        }
      ]
    },
    {
      "cell_type": "code",
      "source": [
        "!python3 tests/test_polynomial.py"
      ],
      "metadata": {
        "colab": {
          "base_uri": "https://localhost:8080/"
        },
        "id": "4JFIbTlBUQZ_",
        "outputId": "bde21f51-6e30-4111-a457-b6b2a2b9164f"
      },
      "execution_count": null,
      "outputs": [
        {
          "output_type": "stream",
          "name": "stdout",
          "text": [
            "test_add (__main__.TestPolynomial) ... ok\n",
            "test_base_decompose (__main__.TestPolynomial) ... ok\n",
            "test_evaluate (__main__.TestPolynomial) ... ok\n",
            "test_mod (__main__.TestPolynomial) ... ok\n",
            "test_multiply (__main__.TestPolynomial) ... ok\n",
            "test_multiply_01 (__main__.TestPolynomial) ... ok\n",
            "test_multiply_crt (__main__.TestPolynomial) ... ok\n",
            "test_multiply_fft (__main__.TestPolynomial) ... ok\n",
            "test_multiply_naive (__main__.TestPolynomial) ... ok\n",
            "test_rotate (__main__.TestPolynomial) ... ok\n",
            "test_round (__main__.TestPolynomial) ... ok\n",
            "test_scalar_multiply (__main__.TestPolynomial) ... ok\n",
            "test_str (__main__.TestPolynomial) ... ok\n",
            "test_subtract (__main__.TestPolynomial) ... ok\n",
            "\n",
            "----------------------------------------------------------------------\n",
            "Ran 14 tests in 0.012s\n",
            "\n",
            "OK\n"
          ]
        }
      ]
    },
    {
      "cell_type": "code",
      "source": [
        "!python3 tests/test_polynomial.py TestPolynomial"
      ],
      "metadata": {
        "colab": {
          "base_uri": "https://localhost:8080/"
        },
        "id": "TQXiLs5nUhOI",
        "outputId": "d57b4b3c-c9f3-455d-ec14-1229edf7d193"
      },
      "execution_count": null,
      "outputs": [
        {
          "output_type": "stream",
          "name": "stdout",
          "text": [
            "test_add (__main__.TestPolynomial) ... ok\n",
            "test_base_decompose (__main__.TestPolynomial) ... ok\n",
            "test_evaluate (__main__.TestPolynomial) ... ok\n",
            "test_mod (__main__.TestPolynomial) ... ok\n",
            "test_multiply (__main__.TestPolynomial) ... ok\n",
            "test_multiply_01 (__main__.TestPolynomial) ... ok\n",
            "test_multiply_crt (__main__.TestPolynomial) ... ok\n",
            "test_multiply_fft (__main__.TestPolynomial) ... ok\n",
            "test_multiply_naive (__main__.TestPolynomial) ... ok\n",
            "test_rotate (__main__.TestPolynomial) ... ok\n",
            "test_round (__main__.TestPolynomial) ... ok\n",
            "test_scalar_multiply (__main__.TestPolynomial) ... ok\n",
            "test_str (__main__.TestPolynomial) ... ok\n",
            "test_subtract (__main__.TestPolynomial) ... ok\n",
            "\n",
            "----------------------------------------------------------------------\n",
            "Ran 14 tests in 0.012s\n",
            "\n",
            "OK\n"
          ]
        }
      ]
    },
    {
      "cell_type": "code",
      "source": [
        "!python3 tests/test_polynomial.py TestPolynomial.test_add"
      ],
      "metadata": {
        "colab": {
          "base_uri": "https://localhost:8080/"
        },
        "id": "U7trej-CUlZU",
        "outputId": "38cc6713-e197-4ff7-8a5d-6b9641300dba"
      },
      "execution_count": null,
      "outputs": [
        {
          "output_type": "stream",
          "name": "stdout",
          "text": [
            "test_add (__main__.TestPolynomial) ... ok\n",
            "\n",
            "----------------------------------------------------------------------\n",
            "Ran 1 test in 0.000s\n",
            "\n",
            "OK\n"
          ]
        }
      ]
    },
    {
      "cell_type": "code",
      "source": [
        "\"\"\"A module to encode integers as plaintext polynomials by using\n",
        "Chinese Remainder Theorem (CRT) batching.\n",
        "\"\"\"\n",
        "\n",
        "from util.ntt import NTTContext\n",
        "from util.plaintext import Plaintext\n",
        "from util.polynomial import Polynomial\n",
        "\n",
        "class BatchEncoder:\n",
        "    \"\"\"An encoder for several integers to polynomials using Chinese\n",
        "    Remainder Theorem (CRT) batching.\n",
        "    We encode N integers using CRT batching, where N is the degree of the\n",
        "    polynomial that determines the quotient ring. Each polynomial p(x) in\n",
        "    the ring Z[x]/f(x), where f(x) = x^N + 1 maps to the N-length vector\n",
        "    [p(a_0), p(a_1), ..., p(a_N)] where a_i are the roots of f(x). This\n",
        "    uniquely identifies a polynomial in the quotient ring, so we use it\n",
        "    to define our encoding, where each of these N-length vectors encodes to\n",
        "    its unique corresponding polynomial in the quotient ring. However, we\n",
        "    instead use the Fermat Theoretic Transform to obtain a slightly\n",
        "    modified N-length vector in faster time.\n",
        "    Attributes:\n",
        "        degree (int): Degree of polynomial that determines quotient ring.\n",
        "        ntt (NTTContext): NTTContext object to encode/decode.\n",
        "    \"\"\"\n",
        "\n",
        "    def __init__(self, params):\n",
        "        \"\"\"Inits BatchEncoder with the given parameters.\n",
        "        Args:\n",
        "            params (Parameters): Parameters including polynomial degree,\n",
        "                plaintext modulus, and ciphertext modulus.\n",
        "        \"\"\"\n",
        "        self.degree = params.poly_degree\n",
        "        self.plain_modulus = params.plain_modulus\n",
        "        self.ntt = NTTContext(params.poly_degree, params.plain_modulus)  \n",
        "\n",
        "    def encode(self, values):\n",
        "        \"\"\"Encodes a list of integers into a polynomial.\n",
        "        Encodes a N-length list of integers (where N is the polynomial degree)\n",
        "        into a polynomial using CRT batching.\n",
        "        Args: \n",
        "            values (list): Integers to encode.\n",
        "        Returns:\n",
        "            A Plaintext object which represents the encoded value.\n",
        "        \"\"\"\n",
        "        assert len(values) == self.degree, 'Length of list does not equal \\\n",
        "            polynomial degree.'\n",
        "        coeffs = self.ntt.ftt_inv(values)\n",
        "        return Plaintext(Polynomial(self.degree, coeffs))\n",
        "\n",
        "    def decode(self, plain):\n",
        "        \"\"\"Decodes a plaintext polynomial.\n",
        "        Decodes a plaintext polynomial back to a list of integers.\n",
        "        Args: \n",
        "            plain (Plaintext): Plaintext to decode.\n",
        "        Returns:\n",
        "            A decoded list of integers.\n",
        "        \"\"\"\n",
        "        result = self.ntt.ftt_fwd(plain.poly.coeffs)\n",
        "        return [val % self.plain_modulus for val in result]"
      ],
      "metadata": {
        "id": "8L3N-xUkUopE"
      },
      "execution_count": null,
      "outputs": []
    },
    {
      "cell_type": "code",
      "source": [
        "\"\"\"A module to decrypt for the BFV scheme.\"\"\"\n",
        "\n",
        "from util.plaintext import Plaintext\n",
        "\n",
        "class BFVDecryptor:\n",
        "\n",
        "    \"\"\"An object that can decrypt data using BFV given a secret key.\n",
        "    Attributes:\n",
        "        poly_degree: Degree of polynomial in quotient ring.\n",
        "        ciph_modulus: Coefficient modulus in ciphertext space.\n",
        "        plain_modulus: Coefficient modulus in plaintext space.\n",
        "        secret_key (SecretKey): Secret key used for encryption.\n",
        "    \"\"\"\n",
        "\n",
        "    def __init__(self, params, secret_key):\n",
        "        \"\"\"Generates private/public key pair for BFV scheme.\n",
        "        Args:\n",
        "            params (Parameters): Parameters including polynomial degree,\n",
        "                plaintext modulus, and ciphertext modulus.\n",
        "            secret_key (SecretKey): Secret key used for decryption.\n",
        "        \"\"\"\n",
        "        self.poly_degree = params.poly_degree\n",
        "        self.ciph_modulus = params.ciph_modulus\n",
        "        self.plain_modulus = params.plain_modulus\n",
        "        self.scaling_factor = params.scaling_factor\n",
        "        self.secret_key = secret_key\n",
        "\n",
        "    def decrypt(self, ciphertext, c2=None):\n",
        "        \"\"\"Decrypts a ciphertext.\n",
        "        Decrypts the ciphertext and returns the corresponding plaintext.\n",
        "        Args:\n",
        "            ciphertext (Ciphertext): Ciphertext to be decrypted.\n",
        "        Returns:\n",
        "            The plaintext corresponding to the decrypted ciphertext.\n",
        "        \"\"\"\n",
        "        (c0, c1) = (ciphertext.c0, ciphertext.c1)\n",
        "        intermed_message = c0.add(c1.multiply(self.secret_key.s, self.ciph_modulus),\n",
        "                                  self.ciph_modulus)\n",
        "        if c2:\n",
        "            secret_key_squared = self.secret_key.s.multiply(self.secret_key.s, self.ciph_modulus)\n",
        "            intermed_message = intermed_message.add(c2.multiply(secret_key_squared, self.ciph_modulus), self.ciph_modulus)\n",
        "        \n",
        "        intermed_message = intermed_message.scalar_multiply(1 / self.scaling_factor)\n",
        "        intermed_message = intermed_message.round()\n",
        "        intermed_message = intermed_message.mod(self.plain_modulus)\n",
        "        return Plaintext(intermed_message)"
      ],
      "metadata": {
        "id": "e6EBw2uDU09e"
      },
      "execution_count": null,
      "outputs": []
    },
    {
      "cell_type": "code",
      "source": [
        "\"\"\"A module to encrypt for the BFV scheme.\"\"\"\n",
        "\n",
        "from util.ciphertext import Ciphertext\n",
        "from util.polynomial import Polynomial\n",
        "from util.random_sample import sample_triangle\n",
        "\n",
        "class BFVEncryptor:\n",
        "\n",
        "    \"\"\"An object that can encrypt data using BFV given a public key.\n",
        "    Attributes:\n",
        "        poly_degree: Degree of polynomial in quotient ring.\n",
        "        coeff_modulus: Coefficient modulus in ciphertext space.\n",
        "        public_key (PublicKey): Public key used for encryption.\n",
        "        delta (int): Floor of ciphertext modulus divided by plaintext modulus.\n",
        "    \"\"\"\n",
        "\n",
        "    def __init__(self, params, public_key):\n",
        "        \"\"\"Generates private/public key pair for BFV scheme.\n",
        "        Args:\n",
        "            params (Parameters): Parameters including polynomial degree,\n",
        "                plaintext modulus, and ciphertext modulus.\n",
        "            public_key (PublicKey): Public key used for encryption.\n",
        "        \"\"\"\n",
        "        self.poly_degree = params.poly_degree\n",
        "        self.coeff_modulus = params.ciph_modulus\n",
        "        self.public_key = public_key\n",
        "        self.scaling_factor = int(params.scaling_factor)\n",
        "\n",
        "    def encrypt(self, message):\n",
        "        \"\"\"Encrypts a message.\n",
        "        Encrypts the message and returns the corresponding ciphertext.\n",
        "        Args:\n",
        "            message (Plaintext): Plaintext to be encrypted.\n",
        "        Returns:\n",
        "            A ciphertext consisting of a pair of polynomials in the ciphertext\n",
        "            space.\n",
        "        \"\"\"\n",
        "        p0 = self.public_key.p0\n",
        "        p1 = self.public_key.p1\n",
        "        scaled_message = message.poly.scalar_multiply(self.scaling_factor, self.coeff_modulus)\n",
        "\n",
        "        random_vec = Polynomial(self.poly_degree,\n",
        "                                sample_triangle(self.poly_degree))\n",
        "        error1 = Polynomial(self.poly_degree,\n",
        "                            sample_triangle(self.poly_degree))\n",
        "        error1 = Polynomial(self.poly_degree,\n",
        "                            [0] * self.poly_degree)\n",
        "        error2 = Polynomial(self.poly_degree,\n",
        "                            sample_triangle(self.poly_degree))\n",
        "        error2 = Polynomial(self.poly_degree,\n",
        "                            [0] * self.poly_degree)\n",
        "        c0 = error1.add(p0.multiply(random_vec, self.coeff_modulus),\n",
        "                        self.coeff_modulus).add(scaled_message, self.coeff_modulus)\n",
        "        c1 = error2.add(p1.multiply(random_vec, self.coeff_modulus), self.coeff_modulus)\n",
        "\n",
        "        return Ciphertext(c0, c1)"
      ],
      "metadata": {
        "id": "EZq2s6cCU_Eb"
      },
      "execution_count": null,
      "outputs": []
    },
    {
      "cell_type": "code",
      "source": [
        "#"
      ],
      "metadata": {
        "id": "ZND3XE0UVGH7"
      },
      "execution_count": null,
      "outputs": []
    }
  ]
}